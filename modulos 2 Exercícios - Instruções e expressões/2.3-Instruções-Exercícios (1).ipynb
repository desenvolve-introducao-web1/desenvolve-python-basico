{
  "metadata": {
    "kernelspec": {
      "name": "python",
      "display_name": "Python (Pyodide)",
      "language": "python"
    },
    "language_info": {
      "codemirror_mode": {
        "name": "python",
        "version": 3
      },
      "file_extension": ".py",
      "mimetype": "text/x-python",
      "name": "python",
      "nbconvert_exporter": "python",
      "pygments_lexer": "ipython3",
      "version": "3.8"
    },
    "colab": {
      "provenance": []
    }
  },
  "nbformat_minor": 4,
  "nbformat": 4,
  "cells": [
    {
      "cell_type": "markdown",
      "source": "# Módulo 2\n\n## 2.3 Instruções e Expressões\n\n### Q1\n\nFaça um programa que armazene o valor de 20 reais de salário por hora de um trabalhador, e o número de 40 horas trabalhadas na semana. Com essas informações, calcule e imprima:\n- Salário semanal bruto\n- Valor descontado por semana INSS (10% do bruto)\n- Valor descontado por semana pelo sindicato (5% do bruto)\n- Salário semanal líquido (Bruto - Descontos)",
      "metadata": {
        "id": "1pCTdOHonv5f"
      }
    },
    {
      "cell_type": "code",
      "source": "salario_hora = 20\nhoras_semana = 40\nsalario_bruto = salario_hora * horas_semana\ndesconto_inss = salario_bruto * 0.10  # 10% do bruto\ndesconto_sindicato = salario_bruto * 0.05  # 5% do bruto\nsalario_liquido = salario_bruto - desconto_inss - desconto_sindicato\nprint(\"Salário semanal bruto: R$\", salario_bruto)\nprint(\"Desconto INSS (10%): R$\", desconto_inss)\nprint(\"Desconto Sindicato (5%): R$\", desconto_sindicato)\nprint(\"Salário semanal líquido: R$\", salario_liquido)",
      "metadata": {
        "id": "hVbX0I97nj6M",
        "trusted": true
      },
      "outputs": [
        {
          "name": "stdout",
          "output_type": "stream",
          "text": "Salário semanal bruto: R$ 800\nDesconto INSS (10%): R$ 80.0\nDesconto Sindicato (5%): R$ 40.0\nSalário semanal líquido: R$ 680.0\n"
        }
      ],
      "execution_count": 1
    },
    {
      "cell_type": "markdown",
      "source": "### Q2\n\nAltere o programa anterior para a partir dos valores de horas trabalhadas por semana e salário por hora, calcular **em somente duas instruções**:\n- Salário semanal bruto\n- Salário semanal líquido com todos os descontos. Para a segunda instrução, realize todos os cálculos aritméticos em uma expressão composta.\n",
      "metadata": {
        "id": "pIxKX9J2oGZ1"
      }
    },
    {
      "cell_type": "code",
      "source": "salario_hora = 20\nhoras_semana = 40\nsalario_bruto = salario_hora * horas_semana\nsalario_liquido = salario_bruto - (salario_bruto * 0.10 + salario_bruto * 0.05)\nprint(\"Salário semanal bruto: R$\", salario_bruto)\nprint(\"Salário semanal líquido: R$\", salario_liquido)",
      "metadata": {
        "id": "pAHw9Xf9oGoi",
        "trusted": true
      },
      "outputs": [
        {
          "name": "stdout",
          "output_type": "stream",
          "text": "Salário semanal bruto: R$ 800\nSalário semanal líquido: R$ 680.0\n"
        }
      ],
      "execution_count": 2
    },
    {
      "cell_type": "markdown",
      "source": "### Q3\n\nVocê está desenvolvendo um software de conversão de moeda e precisa calcular o valor equivalente em yuan chinês a partir de uma quantia em real. A taxa de câmbio é de 0.69 BRL (real) para 1 CNY (yuan). Escreva um programa que define em uma variável uma quantia em reais (BRL) e calcula o valor equivalente em yuan (CNY). Imprima o resultado.",
      "metadata": {
        "id": "m8tlHRuWpBOB"
      }
    },
    {
      "cell_type": "code",
      "source": "valor_brl = 100\nvalor_cny = valor_brl / 0.69\nprint(\"Valor em reais (BRL):\", valor_brl)\nprint(\"Valor equivalente em yuan (CNY):\", valor_cny)",
      "metadata": {
        "id": "2bPw7uF6oeL9",
        "trusted": true
      },
      "outputs": [
        {
          "name": "stdout",
          "output_type": "stream",
          "text": "Valor em reais (BRL): 100\nValor equivalente em yuan (CNY): 144.92753623188406\n"
        }
      ],
      "execution_count": 3
    },
    {
      "cell_type": "markdown",
      "source": "### Q4\n\nVocê é um treinador de corrida e deseja calcular a velocidade média que um atleta precisa manter para completar a Maratona Internacional de São Silvestre, que tem uma distância total de 42.195 km. A fórmula para calcular a velocidade média ($v\\_media$) é dada por $v\\_media = \\frac{distancia}{tempo}$ . Escreva um programa em Python para calcular a velocidade média necessária para completar a maratona em 3 horas.\n\n**Calcule e imprima o resultado em metros/segundo**, ou seja, converta a distância de quilômetros para metros ($metro = \\frac{km}{1000}$) e a velocidade de horas para segundos $(segundo = \\frac{hora}{3600})$.",
      "metadata": {
        "id": "-Na3ltDCp74A"
      }
    },
    {
      "cell_type": "code",
      "source": "distancia_km = 42.195\ndistancia_m = distancia_km * 1000\ntempo_horas = 3\ntempo_segundos = tempo_horas * 3600\nv_media = distancia_m / tempo_segundos\nprint(\"A velocidade média necessária é de\", v_media, \"m/s\")",
      "metadata": {
        "id": "Bn6l8kcSrE4L",
        "trusted": true
      },
      "outputs": [
        {
          "name": "stdout",
          "output_type": "stream",
          "text": "A velocidade média necessária é de 3.9069444444444446 m/s\n"
        }
      ],
      "execution_count": 4
    },
    {
      "cell_type": "code",
      "source": "",
      "metadata": {
        "trusted": true
      },
      "outputs": [],
      "execution_count": null
    }
  ]
}