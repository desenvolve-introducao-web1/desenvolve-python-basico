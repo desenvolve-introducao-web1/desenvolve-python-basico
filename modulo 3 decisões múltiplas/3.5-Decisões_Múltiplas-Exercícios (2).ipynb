{
  "metadata": {
    "kernelspec": {
      "name": "python",
      "display_name": "Python (Pyodide)",
      "language": "python"
    },
    "language_info": {
      "codemirror_mode": {
        "name": "python",
        "version": 3
      },
      "file_extension": ".py",
      "mimetype": "text/x-python",
      "name": "python",
      "nbconvert_exporter": "python",
      "pygments_lexer": "ipython3",
      "version": "3.8"
    }
  },
  "nbformat_minor": 5,
  "nbformat": 4,
  "cells": [
    {
      "id": "559687a1",
      "cell_type": "markdown",
      "source": "# Módulo 3 - Condicionais\n\n## 3.5 - Decisões Múltiplas",
      "metadata": {}
    },
    {
      "id": "42f823b3",
      "cell_type": "markdown",
      "source": "### Q1.\n\nVamos fazer uma calculadora! Escreva um programa que solicita 3 entradas: o primeiro operando (float), o operador (caracter) e o segundo operando (float). Seu programa deve imprimir o resultado da operação solicitada, entre soma (+), subtração (-), divisão (/), multiplicação (\\*) ou potência (\\*\\*). Seu programa também deve imprimir uma mensagem de erro se a operação solicitada não estiver dentre as opções disponíveis.\n\nSeguem alguns exemplos de interação com seu código no terminal. \n\n\n```\nDigite o primeiro operando: 5.2\nDigite o operador (+, -, /, *, **): *\nDigite o segundo operando` 3\nResultado: 5.2 * 3.0 = 15.6\n```\n\n```\nDigite o primeiro operando: 8\nDigite o operador (+, -, /, *, **): **\nDigite o segundo operando: 2\nResultado: 8.0 * 2.0 = 64.0\n```\n\n```\nDigite o primeiro operando: 7\nDigite o operador (+, -, /, *, **): %\nDigite o segundo operando: 3.4\nErro! Operação inválida. \n```\n\n```\nDigite o primeiro operando: 10\nDigite o operador (+, -, /, *, **): /\nDigite o segundo operando: 2.5\nResultado: 10.0 / 2.5 = 4.0\n```\n\n",
      "metadata": {}
    },
    {
      "id": "c5b8cd4d",
      "cell_type": "code",
      "source": "op1 = float(input(\"Digite o primeiro operando: \"))\noperador = input(\"Digite o operador (+, -, /, *, **): \")\nop2 = float(input(\"Digite o segundo operando: \"))\n\n# Verifica o operador e realiza a operação\nif operador == '+':\n    resultado = op1 + op2\nelif operador == '-':\n    resultado = op1 - op2\nelif operador == '*':\n    resultado = op1 * op2\nelif operador == '/':\n    resultado = op1 / op2\nelif operador == '**':\n    resultado = op1 ** op2\nelse:\n    print(\"Erro! Operação inválida.\")\n    resultado = None\n\n# Exibe o resultado se for válido\nif resultado is not None:\n    print(f\"Resultado: {op1} {operador} {op2} = {resultado}\")",
      "metadata": {},
      "outputs": [],
      "execution_count": null
    },
    {
      "id": "d135df39",
      "cell_type": "markdown",
      "source": "### Q2.\n\nEscreva um programa que leia os comprimentos dos 3 lados de um triângulo e diga se o triângulo é equilátero, isóceles ou escaleno. Regras:\n- Isóceles: Quaisquer dois lados com o mesmo comprimento\n- Equilátero: Os três lados tem o mesmo comprimento\n- Escaleno: Três lados de comprimento diferente \n\nNote que a ordem das condições importa! Seguem alguns exemplos de interação com seu código no terminal. \n\n```\nDigite o comprimento do lado 1: 4\nDigite o comprimento do lado 2: 4\nDigite o comprimento do lado 3: 6\nTriângulo: Isóceles\n```\n\n```\nDigite o comprimento do lado 1: 5\nDigite o comprimento do lado 2: 5\nDigite o comprimento do lado 3: 5\nTriângulo: Equilátero\n```\n\n```\nDigite o comprimento do lado 1: 7\nDigite o comprimento do lado 2: 4\nDigite o comprimento do lado 3: 9\nTriângulo: Escaleno\n```\n\n",
      "metadata": {}
    },
    {
      "id": "cfcf9a80",
      "cell_type": "code",
      "source": "lado1 = float(input(\"Digite o comprimento do lado 1: \"))\nlado2 = float(input(\"Digite o comprimento do lado 2: \"))\nlado3 = float(input(\"Digite o comprimento do lado 3: \"))\n\n# Verifica o tipo de triângulo\nif lado1 == lado2 == lado3:\n    print(\"Triângulo: Equilátero\")\nelif lado1 == lado2 or lado1 == lado3 or lado2 == lado3:\n    print(\"Triângulo: Isósceles\")\nelse:\n    print(\"Triângulo: Escaleno\")",
      "metadata": {},
      "outputs": [],
      "execution_count": null
    },
    {
      "id": "ed3405fb",
      "cell_type": "markdown",
      "source": "### Q3.\n\nVocê está desenvolvendo um sistema de avaliação de desempenho para um jogo. Escreva um programa em Python que avalia a pontuação do jogador em uma missão e atribui uma classificação com base nas seguintes condições:\n\n- Se a pontuação for menor que 70, atribua a classificação \"Insatisfatório\".\n- Se a pontuação for maior ou igual a 70, atribua a classificação \"Regular\".\n- Se a pontuação for maior ou igual a 80, atribua a classificação \"Bom\".\n- Se a pontuação for maior ou igual a 90, atribua a classificação \"Excelente\".\n\nEscreva um programa que solicita ao usuário a pontuação e imprime a classificação correspondente.",
      "metadata": {}
    },
    {
      "id": "a7a842ae",
      "cell_type": "code",
      "source": "Certamente! Aqui está o programa em Python que solicita a pontuação do usuário e atribui a classificação de desempenho com base nas condições fornecidas.\n\nPython\n\n# Q3. Sistema de Avaliação de Desempenho\n\n# Solicita a pontuação do jogador ao usuário\ntry:\n    pontuacao = int(input(\"Digite a pontuação do jogador na missão (apenas números inteiros): \"))\nexcept ValueError:\n    # Trata o erro caso o usuário não insira um número inteiro\n    print(\"Entrada inválida. Por favor, digite apenas um número inteiro para a pontuação.\")\n    # Sai do programa se a entrada for inválida para evitar erro de lógica com a variável pontuacao\n    exit()\n\n# Lógica para atribuir a classificação com base nas condições\n\n# 1. Excelente: maior ou igual a 90\nif pontuacao >= 90:\n    classificacao = \"Excelente\"\n\n# 2. Bom: maior ou igual a 80 E menor que 90\nelif pontuacao >= 80:\n    classificacao = \"Bom\"\n\n# 3. Regular: maior ou igual a 70 E menor que 80\nelif pontuacao >= 70:\n    classificacao = \"Regular\"\n\n# 4. Insatisfatório: menor que 70\nelse:\n    classificacao = \"Insatisfatório\"\n\n# Imprime a classificação correspondente\nprint(f\"A pontuação do jogador foi: {pontuacao}\")\nprint(f\"A classificação de desempenho é: {classificacao}\")",
      "metadata": {},
      "outputs": [],
      "execution_count": null
    },
    {
      "id": "6cafaa50",
      "cell_type": "markdown",
      "source": "### Q4.\n\nVocê está implementando um sistema de desconto em uma loja online. Escreva um programa em Python que calcula o desconto com base no valor total da compra e atribui diferentes níveis de desconto de acordo com as seguintes condições:\n\n- Se o valor total da compra for menor que R\\$ 50, não há desconto.\n- Se o valor total da compra for maior ou igual a R\\$ 50, atribua um desconto de 10%.\n- Se o valor total da compra for maior ou igual a R\\$ 100, atribua um desconto de 20%.\n\n\nSeguem alguns exemplos de interação com seu código no terminal. Preste atenção na formatação esperada para as saídas.\n\n```\nDigite o valor total da compra: 120\nDesconto aplicado: 20.0%\nValor final com desconto: R$96.00\n```\n\n```\nDigite o valor total da compra: 65\nDesconto aplicado: 10.0%\nValor final com desconto: R$58.50\n```\n\n```\nDigite o valor total da compra: 40\nDesconto aplicado: 0.0%\nValor final com desconto: R$40.00\n```\n\n\n",
      "metadata": {}
    },
    {
      "id": "3b1b1929",
      "cell_type": "code",
      "source": "try:\n    valor_total = float(input(\"Digite o valor total da compra: \"))\nexcept ValueError:\n    print(\"Entrada inválida. Por favor, digite um valor numérico válido.\")\n    exit()\n\n# 2. Inicializa as variáveis de desconto\ndesconto_percentual = 0.0\n\n# 3. Lógica para atribuir a taxa de desconto\n\n# Se o valor total da compra for maior ou igual a R$ 100, atribua um desconto de 20%.\nif valor_total >= 100:\n    desconto_percentual = 0.20  # 20%\n\n# Se o valor total da compra for maior ou igual a R$ 50 (e menor que R$ 100, devido ao elif), atribua um desconto de 10%.\nelif valor_total >= 50:\n    desconto_percentual = 0.10  # 10%\n\n# Se o valor total da compra for menor que R$ 50, não há desconto (desconto_percentual permanece 0.0).\n\n# 4. Cálculo do valor final\nvalor_do_desconto = valor_total * desconto_percentual\nvalor_final = valor_total - valor_do_desconto\n\n# 5. Formatação das saídas conforme o exemplo\n# O desconto é formatado como porcentagem (ex: 20.0%)\ndesconto_formatado = f\"{desconto_percentual * 100:.1f}%\"\n# O valor final é formatado com duas casas decimais e o prefixo R$\nvalor_final_formatado = f\"R${valor_final:.2f}\"\n\n# 6. Imprime os resultados\nprint(f\"Desconto aplicado: {desconto_formatado}\")\nprint(f\"Valor final com desconto: {valor_final_formatado}\")",
      "metadata": {},
      "outputs": [],
      "execution_count": null
    },
    {
      "id": "dc5db6d7",
      "cell_type": "markdown",
      "source": "### Q5.\n\nCrie um sistema de autenticação em Python. O sistema deve funcionar da\nseguinte maneira:\n\n1. Um banco de dados fictício deve ser implementado como um dicionário,\nonde a chave é o nome do usuário e o valor é uma tupla contendo a senha e\no nível de acesso do usuário.\n\n2. O programa deve solicitar ao usuário que insira seu usuário e senha.\n\n3. O sistema deve:\n* Verificar se o login existe no banco de dados.\n* Comparar a senha fornecida com a armazenada no banco.\n* Caso as credenciais sejam válidas, exibir uma mensagem de sucesso e o nível de acesso do usuário.\n* Caso seja inválido deverá retornar mensagem: “Erro: Usuário ou\nsenha inválidos.”\n* O programa deve rodar em um laço para permitir múltiplas\ntentativas de login, mas também permitir que o usuário opte por sair\ndo programa.\n\nAtributos dos 3 usuários cadastrados no sistema (usuário, senha e nível)\n\n1) admin – admin123 – Administrador\n2) usuario1 – senha123 – Usuário Comum\n3) visitante1 – guest2024 – Visitante",
      "metadata": {}
    },
    {
      "id": "b90304eb",
      "cell_type": "code",
      "source": "# Q5. Sistema de Autenticação em Python\n\n# 1. Banco de dados fictício (Dicionário: {nome_usuario: (senha, nivel_acesso)})\nBANCO_DE_DADOS = {\n    \"admin\": (\"admin123\", \"Administrador\"),\n    \"usuario1\": (\"senha123\", \"Usuário Comum\"),\n    \"visitante1\": (\"guest2024\", \"Visitante\")\n}\n\n# Limite de tentativas de login\nMAX_TENTATIVAS = 3\ntentativas_restantes = MAX_TENTATIVAS\n\nprint(\"--- Sistema de Autenticação ---\")\n\n# O programa deve rodar em um laço (loop) para permitir múltiplas tentativas\nwhile tentativas_restantes > 0:\n    print(f\"\\nTentativas restantes: {tentativas_restantes}\")\n    \n    # Pergunta ao usuário se deseja tentar login ou sair\n    opcao = input(\"Deseja fazer login (L) ou sair do programa (S)? \").strip().upper()\n    \n    if opcao == 'S':\n        print(\"Saindo do sistema. Até logo!\")\n        break  # Sai do loop e encerra o programa\n    \n    elif opcao == 'L':\n        # 2. Solicita usuário e senha\n        usuario_digitado = input(\"Usuário: \").strip()\n        senha_digitada = input(\"Senha: \").strip()\n\n        # 3. O sistema deve:\n        \n        # Verificar se o login existe no banco de dados (chave do dicionário)\n        if usuario_digitado in BANCO_DE_DADOS:\n            # Recupera a tupla (senha_armazenada, nivel_acesso)\n            senha_armazenada, nivel_acesso = BANCO_DE_DADOS[usuario_digitado]\n            \n            # Comparar a senha fornecida com a armazenada\n            if senha_digitada == senha_armazenada:\n                # Caso as credenciais sejam válidas, exibir mensagem de sucesso\n                print(\"\\n✅ Autenticação bem-sucedida!\")\n                print(f\"Bem-vindo(a), {usuario_digitado}. Seu nível de acesso é: {nivel_acesso}.\")\n                \n                # Sai do loop após o login bem-sucedido\n                break\n            else:\n                # Senha incorreta\n                print(\"\\n❌ Erro: Usuário ou senha inválidos.\")\n                tentativas_restantes -= 1\n        else:\n            # Usuário não encontrado\n            print(\"\\n❌ Erro: Usuário ou senha inválidos.\")\n            tentativas_restantes -= 1\n            \n    else:\n        print(\"Opção inválida. Digite 'L' para login ou 'S' para sair.\")\n        # Não decrementa tentativas se a opção for inválida\n\n# Verifica se o loop terminou por esgotar as tentativas\nif tentativas_restantes == 0:\n    print(\"\\n🚫 Tentativas de login esgotadas. O programa será encerrado.\")",
      "metadata": {
        "trusted": true
      },
      "outputs": [
        {
          "name": "stdout",
          "output_type": "stream",
          "text": "--- Sistema de Autenticação ---\n\nTentativas restantes: 3\n"
        }
      ],
      "execution_count": null
    },
    {
      "id": "3ae8dc84-ff28-46b0-8fec-92d4f8eb2c84",
      "cell_type": "code",
      "source": "",
      "metadata": {
        "trusted": true
      },
      "outputs": [],
      "execution_count": null
    }
  ]
}