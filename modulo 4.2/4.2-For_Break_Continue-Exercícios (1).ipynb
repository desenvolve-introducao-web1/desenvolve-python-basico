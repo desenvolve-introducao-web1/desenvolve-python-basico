{
  "metadata": {
    "kernelspec": {
      "name": "python",
      "display_name": "Python (Pyodide)",
      "language": "python"
    },
    "language_info": {
      "codemirror_mode": {
        "name": "python",
        "version": 3
      },
      "file_extension": ".py",
      "mimetype": "text/x-python",
      "name": "python",
      "nbconvert_exporter": "python",
      "pygments_lexer": "ipython3",
      "version": "3.8"
    }
  },
  "nbformat_minor": 5,
  "nbformat": 4,
  "cells": [
    {
      "id": "29e89030",
      "cell_type": "markdown",
      "source": "# Módulo 4 - Repetições\n\n## Aulas 4.2 - Comando ```for``` e 4.3 Break e Continue",
      "metadata": {}
    },
    {
      "id": "a45b42df",
      "cell_type": "markdown",
      "source": "### Q1.\n\nCrie um programa em Python que utilize o comando for para imprimir os números de 10 a 1, em ordem decrescente.",
      "metadata": {}
    },
    {
      "id": "55a75b3d",
      "cell_type": "code",
      "source": "# Q1. Imprimir números de 10 a 1 em ordem decrescente\nprint(\"--- Questão 1 ---\")\nfor i in range(10, 0, -1):\n    print(i)",
      "metadata": {},
      "outputs": [],
      "execution_count": null
    },
    {
      "id": "94b47c36",
      "cell_type": "markdown",
      "source": "### Q2.\n\nDado um número inteiro positivo informado pelo usuário, crie um programa em Python que utilize o comando for para calcular e exibir a soma dos números de 1 até o número informado. Ou seja, $1 + 2 + 3 + ... + n$\n\nExemplo de interação:\n```\nDigite um número: 5\nA soma dos números de 1 a 5 é 15\n```\n",
      "metadata": {}
    },
    {
      "id": "45b71596",
      "cell_type": "code",
      "source": "# Q2. Calcular a soma dos números de 1 até N\nprint(\"\\n--- Questão 2 ---\")\ntry:\n    numero = int(input(\"Digite um número inteiro positivo: \"))\n    soma = 0\n    \n    # O range vai de 1 até 'numero' (o segundo argumento é exclusivo)\n    for i in range(1, numero + 1):\n        soma += i\n        \n    print(f\"A soma dos números de 1 a {numero} é {soma}\")\n\nexcept ValueError:\n    print(\"Entrada inválida. Digite um número inteiro.\")",
      "metadata": {},
      "outputs": [],
      "execution_count": null
    },
    {
      "id": "0411d170",
      "cell_type": "markdown",
      "source": "### Q3.\n\nEscreva um programa que lê 10 valores inteiros positivos do usuário e ao final imprime a média dos valores digitados com duas casas decimais.\n\n```\nDigite 10 números positivos:\n3\n2\n12\n14\n20\n42\n19\n0\n8\n1\nA média dos valores digitados é 12.10\n```",
      "metadata": {}
    },
    {
      "id": "3f72f358",
      "cell_type": "code",
      "source": "# Q3. Calcular a média de 10 valores inteiros positivos\nprint(\"\\n--- Questão 3 ---\")\nsoma_valores = 0\nquantidade_valores = 10\n\nprint(f\"Digite {quantidade_valores} números positivos:\")\n\nfor i in range(1, quantidade_valores + 1):\n    try:\n        valor = int(input(f\"Valor {i}: \"))\n        soma_valores += valor\n    except ValueError:\n        print(\"Entrada inválida, considerando 0 para este valor.\")\n        # Se a entrada for inválida, apenas continua o loop.\n\nif quantidade_valores > 0:\n    media = soma_valores / quantidade_valores\n    print(f\"\\nA média dos valores digitados é {media:.2f}\")\nelse:\n    print(\"Não foi possível calcular a média (quantidade de valores inválida).\")",
      "metadata": {},
      "outputs": [],
      "execution_count": null
    },
    {
      "id": "d62e27ff",
      "cell_type": "markdown",
      "source": "### Q4.\n\nVocê vai criar um sistema que registra os resultados dos jogos do Atlético MG ao longo de um campeonato. Seu sistema vai receber os resultados de todos os jogos do Galo, e deve calcular a pontuação do time sabendo que vitórias valem 3 pontos, empates 1 ponto e derrotas 0 pontos.\n\nEntrada: <br>\nA primeira linha de entrada é um inteiro N com a quantidade jogos do galo. Para cada jogo você deve ler 2 inteiros, o primeiro com a quantidade de gols do galo e o segundo com a quantidade de gols do time oponente. \n\nSaída: <br>\nApresente a soma de vitórias, empates e derrotas do galo, junto com o cálculo da pontuação total.\n\nEx:\n```\nEntrada:\n4\n2\n0\n1\n1\n0\n3\n1\n0\n\nSaída:\nVitórias: 2\nEmpates: 1\nDerrotas: 1\nPontuação: 7\n\n```\n\n\n",
      "metadata": {}
    },
    {
      "id": "d3fdfc2a",
      "cell_type": "code",
      "source": "# Q4. Calcular a pontuação do Atlético MG\nprint(\"\\n--- Questão 4 ---\")\ntry:\n    N = int(input(\"Digite a quantidade de jogos: \"))\n    \n    vitorias = 0\n    empates = 0\n    derrotas = 0\n    \n    for _ in range(N):\n        try:\n            gols_galo = int(input(\"Gols do Galo: \"))\n            gols_oponente = int(input(\"Gols do Oponente: \"))\n            \n            if gols_galo > gols_oponente:\n                vitorias += 1\n            elif gols_galo == gols_oponente:\n                empates += 1\n            else:\n                derrotas += 1\n        except ValueError:\n            print(\"Entrada inválida para o placar. Jogo ignorado.\")\n            continue # Pula para o próximo jogo\n            \n    pontuacao_total = (vitorias * 3) + (empates * 1) + (derrotas * 0)\n    \n    print(\"\\nSaída:\")\n    print(f\"Vitórias: {vitorias}\")\n    print(f\"Empates: {empates}\")\n    print(f\"Derrotas: {derrotas}\")\n    print(f\"Pontuação: {pontuacao_total}\")\n\nexcept ValueError:\n    print(\"Entrada inválida para a quantidade de jogos (N).\")",
      "metadata": {},
      "outputs": [],
      "execution_count": null
    },
    {
      "id": "fc98604d",
      "cell_type": "markdown",
      "source": "### Q5.\n\nFaça um programa que lê dois inteiros N e M, e imprime na tela um campo de batalha naval. O tabuleiro deve possuir N linhas e M colunas. A primeira linha é composta por um espaço em branco e o cabeçalho das colunas, ou seja, valores de 1 a M. As N linhas seguintes iniciam com o cabeçalho da linha, ou seja, seu número, seguido de M caracteres \"/\" (barra) indicando uma possível posição jogável. \n\n```\nEntrada:\n5\n4\n\nSaída:\n  1 2 3 4 \n1 / / / / \n2 / / / / \n3 / / / / \n4 / / / / \n5 / / / / \n```\n\nPara esse exercício, precisamos lembrar que o comando print implicitamente adiciona uma quebra de linha ao final da impressão. Podemos interferir no final da impressão adicionando mais uma entrada ao print. No exemplo, finalizamos cada linha com um espaço em branco:\n```python\nprint(\"Texto qualquer\", end = \" \")\n```",
      "metadata": {}
    },
    {
      "id": "a60ef197",
      "cell_type": "code",
      "source": "# Q5. Imprimir um campo de batalha naval\nprint(\"\\n--- Questão 5 ---\")\ntry:\n    N = int(input(\"Digite o número de linhas (N): \"))\n    M = int(input(\"Digite o número de colunas (M): \"))\n\n    # 1. Imprimir o cabeçalho das colunas\n    print(\" \", end=\" \") # Espaço inicial para alinhar com o cabeçalho da linha\n    for j in range(1, M + 1):\n        print(j, end=\" \")\n    print() # Quebra de linha para começar o corpo do tabuleiro\n\n    # 2. Imprimir as linhas (cabeçalho da linha + M barras)\n    for i in range(1, N + 1):\n        print(i, end=\" \") # Cabeçalho da linha\n        for j in range(M):\n            print(\"/\", end=\" \") # Colunas com o caractere '/'\n        print() # Quebra de linha para a próxima linha do tabuleiro\n        \nexcept ValueError:\n    print(\"Entrada inválida. Digite números inteiros.\")",
      "metadata": {},
      "outputs": [],
      "execution_count": null
    },
    {
      "id": "4654dc0b",
      "cell_type": "markdown",
      "source": "---\n## Break e Continue",
      "metadata": {}
    },
    {
      "id": "24fe9d85",
      "cell_type": "markdown",
      "source": "### Q6.\n\nEscreva um programa que lê uma quantidade indefinida de valores e informa o maior e o menor valor digitados. A leitura é encerrada quando o usuário digitar o valor 0 (zero).\n\n```\nEntrada:\n12\n-1\n29\n11\n-5\n0\n\nSaída:\nMaior: 29\nMenor: -5\n```",
      "metadata": {}
    },
    {
      "id": "ee1c466a",
      "cell_type": "code",
      "source": "# Q6. Encontrar o maior e o menor valor (Encerra com 0)\nprint(\"\\n--- Questão 6 ---\")\nmaior = None\nmenor = None\n\nprint(\"Digite valores inteiros. Digite 0 para encerrar.\")\n\nwhile True:\n    try:\n        valor = int(input(\"Valor: \"))\n        \n        if valor == 0:\n            break # Encerra a leitura (comando break)\n            \n        if maior is None or valor > maior:\n            maior = valor\n            \n        if menor is None or valor < menor:\n            menor = valor\n            \n    except ValueError:\n        print(\"Entrada inválida. Tente novamente.\")\n        continue # Ignora a entrada e continua o loop (comando continue)\n        \nif maior is not None:\n    print(f\"\\nMaior: {maior}\")\n    print(f\"Menor: {menor}\")\nelse:\n    print(\"\\nNenhum valor diferente de 0 foi digitado.\")",
      "metadata": {},
      "outputs": [],
      "execution_count": null
    },
    {
      "id": "30d486f7",
      "cell_type": "markdown",
      "source": "### Q7.\n\nEscreva um programa que lê uma quantidade indefinida de valores e informa o **produto** dos valores positivos digitados. A leitura é encerrada quando o usuário digitar o valor 0 (zero).\n\n```\nEntrada:\n2\n-1\n1\n3\n-5\n0\n\nSaída:\nProduto: 6\n```",
      "metadata": {}
    },
    {
      "id": "2f1ac324",
      "cell_type": "code",
      "source": "# Q7. Calcular o produto dos valores positivos (Encerra com 0)\nprint(\"\\n--- Questão 7 ---\")\nproduto = 1\nleitura_iniciada = False # Flag para verificar se algum valor positivo foi lido\n\nprint(\"Digite valores inteiros. Digite 0 para encerrar.\")\n\nwhile True:\n    try:\n        valor = int(input(\"Valor: \"))\n        \n        if valor == 0:\n            break # Encerra a leitura\n            \n        if valor > 0:\n            produto *= valor\n            leitura_iniciada = True\n            \n        # O valor <= 0 (negativo) é ignorado. Não precisa de 'continue' explícito,\n        # mas se a lógica fosse mais complexa, poderia ser útil:\n        # elif valor < 0:\n        #     continue\n\n    except ValueError:\n        print(\"Entrada inválida. Tente novamente.\")\n        continue # Pula para a próxima iteração\n\nif leitura_iniciada:\n    print(f\"\\nProduto: {produto}\")\nelse:\n    print(\"\\nNenhum valor positivo foi digitado.\")",
      "metadata": {},
      "outputs": [],
      "execution_count": null
    },
    {
      "id": "e932f3cf",
      "cell_type": "markdown",
      "source": "### Q8.\n\nVamos fazer uma calculadora que aceita expressões aritméticas de qualquer tamanho até que o usuário digite a palavra \"Fim\". Sua calculadora executa apenas as operações \"+\", \"-\".\n\n```\nEntrada:\n5\n+\n8\n-\n3\n+\n2\nFim\n\nSaída:\n12\n```",
      "metadata": {}
    },
    {
      "id": "e835d870",
      "cell_type": "code",
      "source": "# Q8. Calculadora simples com \"+\" e \"-\" (Encerra com \"Fim\")\nprint(\"\\n--- Questão 8 ---\")\nresultado = 0\noperador_pendente = None # Armazena o último operador lido (+ ou -)\nprimeiro_valor = True\n\nprint(\"Digite a expressão (número, operador, número...). Digite 'Fim' para calcular.\")\n\nwhile True:\n    entrada = input(\"Entrada: \")\n    \n    if entrada.lower() == \"fim\":\n        break # Encerra a leitura (comando break)\n        \n    try:\n        # Tenta converter a entrada para número\n        valor = float(entrada)\n        \n        if primeiro_valor:\n            resultado = valor\n            primeiro_valor = False\n        else:\n            # Aplica a operação pendente\n            if operador_pendente == '+':\n                resultado += valor\n            elif operador_pendente == '-':\n                resultado -= valor\n            # Se não houver operador pendente, o valor é ignorado (ou a lógica está errada)\n            \n        operador_pendente = None # O número foi processado, limpa o operador\n        \n    except ValueError:\n        # A entrada não é um número, deve ser um operador\n        if entrada == '+' or entrada == '-':\n            operador_pendente = entrada\n        else:\n            print(\"Operador ou entrada inválida. Tente novamente.\")\n            continue # Pula para a próxima iteração\n            \nprint(f\"\\nSaída:\")\nprint(int(resultado) if resultado == int(resultado) else resultado) # Imprime como inteiro se não tiver casas decimais",
      "metadata": {
        "trusted": true
      },
      "outputs": [
        {
          "name": "stdout",
          "output_type": "stream",
          "text": "\n--- Questão 8 ---\nDigite a expressão (número, operador, número...). Digite 'Fim' para calcular.\n"
        }
      ],
      "execution_count": null
    },
    {
      "id": "a0b69763-321f-4eae-be1f-c7fe56990054",
      "cell_type": "code",
      "source": "",
      "metadata": {
        "trusted": true
      },
      "outputs": [],
      "execution_count": null
    }
  ]
}